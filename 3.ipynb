import numpy as np
from scipy.stats import dirichlet, multinomial
import plotly.figure_factory as ff

# Set parameters for the multinomial and Dirichlet distributions
multinomial_probs = np.array([0.3, 0.5, 0.2])  # Multinomial probabilities
n_trials = 100  # Number of trials in multinomial sampling
alpha_prior = np.array([1.1, 1.1, 1.1])  # Dirichlet prior parameters

# Step 1: Generate a multinomial sample
multinomial_sample = multinomial.rvs(n=n_trials, p=multinomial_probs, size=1).flatten()

# Update the Dirichlet posterior with the observed data
alpha_posterior = alpha_prior + multinomial_sample

# Step 2: Generate a grid over the simplex
p1 = np.linspace(0, 1, 100)
p2 = 1 - p1.copy()
p_ = np.linspace(0, 1, 100)
p1 = (p1[np.newaxis, :] * p_[:, np.newaxis]).flatten()
p2 = (p2[np.newaxis, :] * p_[:, np.newaxis]).flatten()
p3 = 1 - p1 - p2
simplex_points = np.c_[p1, p2, p3]

# Remove points outside the simplex (where p1 + p2 + p3 != 1)
valid_points = np.all(simplex_points >= 0, axis=1)
simplex_points = simplex_points[valid_points]

# Step 3: Compute the Dirichlet PDF for the prior and posterior
dirichlet_prior = dirichlet(alpha=alpha_prior)
prior_densities = dirichlet_prior.pdf(simplex_points.T)

dirichlet_posterior = dirichlet(alpha=alpha_posterior)
posterior_densities = dirichlet_posterior.pdf(simplex_points.T)

# Step 4: Create ternary contour plots
fig_prior = ff.create_ternary_contour(
    simplex_points.T,
    prior_densities,
    pole_labels=["p1", "p2", "p3"],
    interp_mode="cartesian",
    title="Dirichlet Prior Distribution",
    showscale=True,
)

fig_posterior = ff.create_ternary_contour(
    simplex_points.T,
    posterior_densities,
    pole_labels=["p1", "p2", "p3"],
    interp_mode="cartesian",
    title="Dirichlet Posterior Distribution",
    showscale=True,
)

# Show the plots
fig_prior.show()
fig_posterior.show()
